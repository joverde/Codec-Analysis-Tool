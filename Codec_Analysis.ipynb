{
  "nbformat": 4,
  "nbformat_minor": 0,
  "metadata": {
    "colab": {
      "name": "Codec Analysis.ipynb",
      "provenance": [],
      "include_colab_link": true
    },
    "kernelspec": {
      "name": "python3",
      "display_name": "Python 3"
    }
  },
  "cells": [
    {
      "cell_type": "markdown",
      "metadata": {
        "id": "view-in-github",
        "colab_type": "text"
      },
      "source": [
        "<a href=\"https://colab.research.google.com/github/joverde/Codec-Analysis-Tool/blob/master/Codec_Analysis.ipynb\" target=\"_parent\"><img src=\"https://colab.research.google.com/assets/colab-badge.svg\" alt=\"Open In Colab\"/></a>"
      ]
    },
    {
      "cell_type": "code",
      "metadata": {
        "id": "TYWZcwc02mfA",
        "colab_type": "code",
        "colab": {}
      },
      "source": [
        "from pydrive.auth import GoogleAuth\n",
        "from pydrive.drive import GoogleDrive\n",
        "from google.colab import auth\n",
        "from oauth2client.client import GoogleCredentials\n",
        "import json\n",
        "import pandas as pd\n",
        "import plotly.express as px\n",
        "import matplotlib.pyplot as plt\n",
        "from google.colab import files\n",
        "from google.colab import drive\n",
        "\n",
        "drive.mount('/content/drive')\n"
      ],
      "execution_count": null,
      "outputs": []
    },
    {
      "cell_type": "markdown",
      "metadata": {
        "id": "UtuXzx6AnxID",
        "colab_type": "text"
      },
      "source": [
        "#Loads Files From Google Drive"
      ]
    },
    {
      "cell_type": "code",
      "metadata": {
        "id": "mEJPsKfbQOYG",
        "colab_type": "code",
        "colab": {}
      },
      "source": [
        "with open(\"/content/drive/My Drive/Final Design Doc/results/Final/Offline/offline-sizes_colab.txt\", encoding=\"utf-8\") as offline_sizes_file:\n",
        "    offline_sizes = json.load(offline_sizes_file)\n",
        "with open(\"/content/drive/My Drive/Final Design Doc/results/Final/Realtime/realtime-threshold_colab.txt\", encoding=\"utf-8\") as realtime_sizes_file:\n",
        "    realtime_sizes = json.load(realtime_sizes_file)"
      ],
      "execution_count": null,
      "outputs": []
    },
    {
      "cell_type": "markdown",
      "metadata": {
        "id": "bI92Ih9gugmr",
        "colab_type": "text"
      },
      "source": [
        "#Choose which set of results to display"
      ]
    },
    {
      "cell_type": "code",
      "metadata": {
        "id": "WzXWi-sLwLwE",
        "colab_type": "code",
        "colab": {}
      },
      "source": [
        "results = [(0,offline_sizes), (1,\"realtime_sizes\"), (2, \"realtime_threshold\")]\n",
        "results_choice = 0\n",
        "\n",
        "#convert results to json and group results by input file\n",
        "data = results[results_choice][1]\n",
        "obj = pd.json_normalize(data[\"data\"])\n",
        "obj = obj.sort_values(by=[\"input-file\",\"actual-bitrate-bps\"])\n",
        "grouped = obj.groupby(\"input-file\")"
      ],
      "execution_count": null,
      "outputs": []
    },
    {
      "cell_type": "markdown",
      "metadata": {
        "id": "3Ll6DWXxuVOC",
        "colab_type": "text"
      },
      "source": [
        "#Choose what Metric to display"
      ]
    },
    {
      "cell_type": "code",
      "metadata": {
        "id": "lHjZDtU-uF0G",
        "colab_type": "code",
        "colab": {}
      },
      "source": [
        "# Change metric_choice to pick specific feature to visualize below, based on index value (ex. to choose vmaf, metric_choice = 15)\n",
        "metric_choice = 5\n",
        "metrics = [(0, 'vpx-ssim'), (1, 'ssim'), (2, 'ssim-y'), (3, 'ssim-u'), (4, 'ssim-v'), (5, 'avg-psnr'), (6, 'avg-psnr-y'), (7, 'avg-psnr-u'), (8, 'avg-psnr-v'), (9, 'glb-psnr'), \n",
        "     (10, 'glb-psnr-y'), (11, 'glb-psnr-u'), (12, 'glb-psnr-v'), (13, 'encode-time-utilization'), (14, 'actual-encode-time-ms'), (15, 'vmaf')]"
      ],
      "execution_count": null,
      "outputs": []
    },
    {
      "cell_type": "markdown",
      "metadata": {
        "id": "P1t0dT2g7xvc",
        "colab_type": "text"
      },
      "source": [
        "#Single Graph"
      ]
    },
    {
      "cell_type": "markdown",
      "metadata": {
        "id": "QqwNLbXQulT_",
        "colab_type": "text"
      },
      "source": [
        "Choose which file to display for single graph"
      ]
    },
    {
      "cell_type": "code",
      "metadata": {
        "id": "ytZPL7hHurcB",
        "colab_type": "code",
        "colab": {}
      },
      "source": [
        "# Change file_choice to pick specific feature to visualize below, based on index value (ex. to choose 'Animation_480P-52af.mkv', file_choice = 0)\n",
        "file_choice = 0\n",
        "files = [(0, 'Animation_480P-52af.mkv'), (1, 'Animation_480P-6e23.mkv'), (2, 'Animation_480P-6ff4.mkv'), (3, 'Animation_480P-7114.mkv'), (4, 'Animation_480P-7ef2.mkv'), (5, 'CoverSong_480P-2142.mkv'), \n",
        " (6, 'CoverSong_480P-7f6d.mkv'), (7, 'Gaming_480P-14fc.mkv'), (8, 'Gaming_480P-1542.mkv'), (9, 'Gaming_480P-5a5a.mkv'), (10, 'Gaming_480P-6a5a.mkv'), (11, 'Gaming_480P-7893.mkv'), \n",
        " (12, 'HowTo_480P-187c.mkv'), (13, 'HowTo_480P-48ac.mkv'), (14, 'HowTo_480P-64a2.mkv'), (15, 'HowTo_480P-7579.mkv'), (16, 'Lecture_480P-4bc3.mkv'), (17, 'Lecture_480P-7eec.mkv'), \n",
        " (18, 'LyricVideo_480P-1484.mkv'), (19, 'LyricVideo_480P-4346.mkv'), (20, 'MusicVideo_480P-3aa2.mkv'), (21, 'MusicVideo_480P-4802.mkv'), (22, 'MusicVideo_480P-4cc8.mkv'), \n",
        " (23, 'MusicVideo_480P-5461.mkv'), (24, 'MusicVideo_480P-7955.mkv'), (25, 'NewsClip_480P-31bd.mkv'), (26, 'NewsClip_480P-41b1.mkv'), (27, 'NewsClip_480P-6615.mkv'), \n",
        " (28, 'Sports_480P-19e4.mkv'), (29, 'Sports_480P-3404.mkv'), (30, 'Sports_480P-41a5.mkv'), (31, 'TelevisionClip_480P-19d3.mkv'), (32, 'TelevisionClip_480P-280f.mkv'), \n",
        " (33, 'VerticalVideo_480P-1bb9.mkv'), (34, 'VerticalVideo_480P-3a6a.mkv'), (35, 'VerticalVideo_480P-5168.mkv'), (36, 'VerticalVideo_480P-7278.mkv'), (37, 'Vlog_480P-5dfe.mkv'), \n",
        " (38, 'Vlog_480P-5ebd.mkv'), (39, 'Vlog_480P-7237.mkv')]\n",
        "\n",
        "# Only run when new set of files are generated and a new constant list is needed.\n",
        "def generate_file_names():\n",
        "  for name,info in grouped:\n",
        "    groups.append((len(groups),name))\n",
        "  print(groups)"
      ],
      "execution_count": null,
      "outputs": []
    },
    {
      "cell_type": "code",
      "metadata": {
        "id": "ZkmwOpSg6Tta",
        "colab_type": "code",
        "colab": {}
      },
      "source": [
        "#creates graph for file_choice, metric_choice, and results_choice\n",
        "fig = px.line(grouped.get_group(files[file_choice][1]),title= \"Results for \" + files[file_choice][1], x=\"actual-bitrate-bps\",y=metrics[metric_choice][1], color=\"encoder\", hover_name= \"encoder\")\n",
        "\n",
        "#Updates graph legend layout to be more legible\n",
        "fig.update_layout(legend=dict(\n",
        "    orientation=\"h\",\n",
        "    yanchor=\"bottom\",\n",
        "    y=1.005,\n",
        "    xanchor=\"right\",\n",
        "    x=1\n",
        "))"
      ],
      "execution_count": null,
      "outputs": []
    },
    {
      "cell_type": "markdown",
      "metadata": {
        "id": "eGiFfxUQ71ID",
        "colab_type": "text"
      },
      "source": [
        "#Trend Analysis"
      ]
    },
    {
      "cell_type": "code",
      "metadata": {
        "id": "d9_XC5qF7yoL",
        "colab_type": "code",
        "colab": {}
      },
      "source": [
        "#creates graph for trends with metric_choice and results_choice\n",
        "fig = px.line(obj,title= metrics[metric_choice][1] + \" values for UGC Dataset\", x=\"actual-bitrate-bps\",y=metrics[metric_choice][1], color=\"encoder\", facet_col = \"input-file\",\\\n",
        "              hover_name= \"encoder\", facet_col_wrap = 4, width=1650, height=3000)\n",
        "\n",
        "#Updates graph legend layout to be more legible\n",
        "fig.update_xaxes(matches=None)\n",
        "fig.update_xaxes(showticklabels=True)\n",
        "fig.update_yaxes(matches=None)\n",
        "fig.update_yaxes(showticklabels=True)\n",
        "fig.update_layout(legend=dict(\n",
        "    orientation=\"h\",\n",
        "    yanchor=\"bottom\",\n",
        "    y=1.005,\n",
        "    xanchor=\"right\",\n",
        "    x=1\n",
        "))\n",
        "# Make titles of graphs more concise\n",
        "fig.for_each_annotation(lambda a: a.update(text=a.text.split(\"=\")[-1]))"
      ],
      "execution_count": null,
      "outputs": []
    }
  ]
}